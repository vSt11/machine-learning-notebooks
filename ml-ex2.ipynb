{
 "cells": [
  {
   "cell_type": "markdown",
   "metadata": {},
   "source": [
    "## Logistic regression"
   ]
  },
  {
   "cell_type": "markdown",
   "metadata": {},
   "source": [
    "This exercise is described in [ex2.pdf](data/ml-ex2/ex2.pdf)."
   ]
  },
  {
   "cell_type": "code",
   "execution_count": 1,
   "metadata": {},
   "outputs": [],
   "source": [
    "import numpy as np\n",
    "import matplotlib.pyplot as plt\n",
    "\n",
    "from matplotlib import colors\n",
    "from sklearn.linear_model import LogisticRegression\n",
    "from sklearn.pipeline import Pipeline\n",
    "from sklearn.preprocessing import PolynomialFeatures, StandardScaler\n",
    "from scipy.special import logit\n",
    "\n",
    "%matplotlib inline"
   ]
  },
  {
   "cell_type": "markdown",
   "metadata": {},
   "source": [
    "### Unregularized logistic regression"
   ]
  },
  {
   "cell_type": "code",
   "execution_count": 2,
   "metadata": {},
   "outputs": [],
   "source": [
    "# Admission data: \n",
    "# - exam 1 score (x1) \n",
    "# - exam 2 score (x2)\n",
    "# - admitted (y)\n",
    "data = np.loadtxt('data/ml-ex2/ex2data1.txt', delimiter=',')"
   ]
  },
  {
   "cell_type": "code",
   "execution_count": 3,
   "metadata": {},
   "outputs": [],
   "source": [
    "# Separate features (x1, x2) from target (y)\n",
    "X, y = np.hsplit(data, np.array([2]))"
   ]
  },
  {
   "cell_type": "code",
   "execution_count": 4,
   "metadata": {},
   "outputs": [],
   "source": [
    "# LogisticRegression estimator expect an y row vector\n",
    "y = y.ravel()"
   ]
  },
  {
   "cell_type": "code",
   "execution_count": 5,
   "metadata": {},
   "outputs": [
    {
     "data": {
      "text/plain": [
       "LogisticRegression(C=1000000000.0, class_weight=None, dual=False,\n",
       "          fit_intercept=True, intercept_scaling=1, max_iter=100,\n",
       "          multi_class='warn', n_jobs=None, penalty='l2', random_state=None,\n",
       "          solver='lbfgs', tol=0.0001, verbose=0, warm_start=False)"
      ]
     },
     "execution_count": 5,
     "metadata": {},
     "output_type": "execute_result"
    }
   ],
   "source": [
    "# Use 'lbfgs' solver for logistic regression as this is what Octave fminunc does.\n",
    "# Parameter C ist the inverse regularization strength (high values = low regularization).\n",
    "clf = LogisticRegression(C=1e9, solver='lbfgs')\n",
    "clf.fit(X, y)"
   ]
  },
  {
   "cell_type": "code",
   "execution_count": 6,
   "metadata": {},
   "outputs": [],
   "source": [
    "theta0 = clf.intercept_[0]\n",
    "theta1 = clf.coef_[0,0]\n",
    "theta2 = clf.coef_[0,1]"
   ]
  },
  {
   "cell_type": "code",
   "execution_count": 7,
   "metadata": {},
   "outputs": [],
   "source": [
    "# Computes x2 at y = logit(0.5) from x1 and model parameters\n",
    "# based on equation y = sigmoid(theta0 + theta1*x1 + theta2*x2)\n",
    "# where logit is the inverse of sigmoid.\n",
    "# (used for computing the linear decision boundary)\n",
    "def x2(x1):\n",
    "    return (logit(0.5) - theta0 - theta1*x1) / theta2"
   ]
  },
  {
   "cell_type": "code",
   "execution_count": 8,
   "metadata": {},
   "outputs": [],
   "source": [
    "x1_min = X[:,0].min()\n",
    "x1_max = X[:,0].max()"
   ]
  },
  {
   "cell_type": "code",
   "execution_count": 9,
   "metadata": {},
   "outputs": [],
   "source": [
    "# x1 and x2 data of linear decision boundary\n",
    "x1_plot = np.array([x1_min, x1_max])\n",
    "x2_plot = x2(x1_plot)"
   ]
  },
  {
   "cell_type": "code",
   "execution_count": 10,
   "metadata": {},
   "outputs": [
    {
     "data": {
      "text/plain": [
       "[<matplotlib.lines.Line2D at 0x7f78c2ed2ef0>]"
      ]
     },
     "execution_count": 10,
     "metadata": {},
     "output_type": "execute_result"
    },
    {
     "data": {
      "image/png": "[encoded data removed]",
      "text/plain": [
       "<Figure size 432x288 with 1 Axes>"
      ]
     },
     "metadata": {
      "needs_background": "light"
     },
     "output_type": "display_data"
    }
   ],
   "source": [
    "fig, ax = plt.subplots()\n",
    "\n",
    "# Mask for selecting positive and negative examples\n",
    "y_pos = y == 1\n",
    "y_neg = y == 0\n",
    "\n",
    "# Plot examples and decision boundary\n",
    "ax.plot(X[y_pos,0], X[y_pos,1], 'b+', label='Admitted')\n",
    "ax.plot(X[y_neg,0], X[y_neg,1], 'yo', label='Not admitted')\n",
    "ax.set_xlabel('Exam 1 score')\n",
    "ax.set_ylabel('Exam 2 score')\n",
    "ax.legend(loc='upper right')\n",
    "\n",
    "# Plot decision boundary\n",
    "ax.plot(x1_plot, x2_plot)"
   ]
  },
  {
   "cell_type": "code",
   "execution_count": 11,
   "metadata": {},
   "outputs": [],
   "source": [
    "X_test = np.array([\n",
    "    [45., 85.],\n",
    "    [50., 50.],\n",
    "    [80., 80.]\n",
    "])"
   ]
  },
  {
   "cell_type": "code",
   "execution_count": 12,
   "metadata": {},
   "outputs": [
    {
     "data": {
      "text/plain": [
       "array([1., 0., 1.])"
      ]
     },
     "execution_count": 12,
     "metadata": {},
     "output_type": "execute_result"
    }
   ],
   "source": [
    "# Predict class\n",
    "clf.predict(X_test)"
   ]
  },
  {
   "cell_type": "code",
   "execution_count": 13,
   "metadata": {},
   "outputs": [
    {
     "data": {
      "text/plain": [
       "array([[2.23709868e-01, 7.76290132e-01],\n",
       "       [9.91642300e-01, 8.35769979e-03],\n",
       "       [5.78239123e-04, 9.99421761e-01]])"
      ]
     },
     "execution_count": 13,
     "metadata": {},
     "output_type": "execute_result"
    }
   ],
   "source": [
    "# Predict class probabilities\n",
    "clf.predict_proba(X_test)"
   ]
  },
  {
   "cell_type": "code",
   "execution_count": 14,
   "metadata": {},
   "outputs": [],
   "source": [
    "theta0 = clf.intercept_[0]\n",
    "theta1 = clf.coef_[0,0]\n",
    "theta2 = clf.coef_[0,1]"
   ]
  },
  {
   "cell_type": "code",
   "execution_count": 15,
   "metadata": {},
   "outputs": [
    {
     "data": {
      "text/plain": [
       "(-25.16138567101981, 0.20623222395628113, 0.20147190519771901)"
      ]
     },
     "execution_count": 15,
     "metadata": {},
     "output_type": "execute_result"
    }
   ],
   "source": [
    "theta0, theta1, theta2"
   ]
  },
  {
   "cell_type": "code",
   "execution_count": 16,
   "metadata": {},
   "outputs": [
    {
     "data": {
      "text/plain": [
       "0.89"
      ]
     },
     "execution_count": 16,
     "metadata": {},
     "output_type": "execute_result"
    }
   ],
   "source": [
    "# Classification accuracy on training set\n",
    "clf.score(X, y)"
   ]
  },
  {
   "cell_type": "markdown",
   "metadata": {},
   "source": [
    "### Regularized logistic regression"
   ]
  },
  {
   "cell_type": "code",
   "execution_count": 17,
   "metadata": {},
   "outputs": [],
   "source": [
    "# Microchip test: \n",
    "# - test 1 (x1) \n",
    "# - test 2 (x2)\n",
    "# - accepted=1, rejected=0 (y)\n",
    "data = np.loadtxt('data/ml-ex2/ex2data2.txt', delimiter=',')"
   ]
  },
  {
   "cell_type": "code",
   "execution_count": 18,
   "metadata": {},
   "outputs": [],
   "source": [
    "# LogisticRegression estimator expect an y row vector\n",
    "X, y = np.hsplit(data, np.array([2]))"
   ]
  },
  {
   "cell_type": "code",
   "execution_count": 19,
   "metadata": {},
   "outputs": [],
   "source": [
    "# Logistic regression estimator requires an y row vector\n",
    "y = y.ravel()"
   ]
  },
  {
   "cell_type": "code",
   "execution_count": 20,
   "metadata": {},
   "outputs": [
    {
     "data": {
      "text/plain": [
       "<matplotlib.legend.Legend at 0x7f78c2e18940>"
      ]
     },
     "execution_count": 20,
     "metadata": {},
     "output_type": "execute_result"
    },
    {
     "data": {
      "image/png": "[encoded data removed]",
      "text/plain": [
       "<Figure size 432x288 with 1 Axes>"
      ]
     },
     "metadata": {
      "needs_background": "light"
     },
     "output_type": "display_data"
    }
   ],
   "source": [
    "fig, ax = plt.subplots()\n",
    "\n",
    "# Mask for selecting positive and negative examples\n",
    "y_pos = y == 1\n",
    "y_neg = y == 0\n",
    "\n",
    "# Plot examples\n",
    "ax.plot(X[y_pos,0], X[y_pos,1], 'b+', label='Accepted')\n",
    "ax.plot(X[y_neg,0], X[y_neg,1], 'yo', label='Rejected')\n",
    "ax.set_xlabel('Microchip test 1')\n",
    "ax.set_ylabel('Microchip test 2')\n",
    "ax.legend(loc='upper right')"
   ]
  },
  {
   "cell_type": "code",
   "execution_count": 21,
   "metadata": {},
   "outputs": [
    {
     "data": {
      "text/plain": [
       "Pipeline(memory=None,\n",
       "     steps=[('poly', PolynomialFeatures(degree=6, include_bias=False, interaction_only=False)), ('scaler', StandardScaler(copy=True, with_mean=True, with_std=True)), ('clf', LogisticRegression(C=1.0, class_weight=None, dual=False, fit_intercept=True,\n",
       "          intercept_scaling=1, max_iter=100, multi_class='warn',\n",
       "          n_jobs=None, penalty='l2', random_state=None, solver='lbfgs',\n",
       "          tol=0.0001, verbose=0, warm_start=False))])"
      ]
     },
     "execution_count": 21,
     "metadata": {},
     "output_type": "execute_result"
    }
   ],
   "source": [
    "# Preprocessor to include polynomial features up to degree 6\n",
    "poly = PolynomialFeatures(6, include_bias=False)\n",
    "\n",
    "# Mean and standard deviation scaler\n",
    "scaler = StandardScaler()\n",
    "\n",
    "# Logistic regression classifier. \n",
    "# - C=1.0 will result in good fit\n",
    "# - C=1e4 will result in overfit (to little regularization)\n",
    "# - C=1e-2 will result in underfit (to much regularization)\n",
    "clf = LogisticRegression(C=1.0, solver='lbfgs')\n",
    "\n",
    "# Pipeline of polynomial feature generator, feature scaler and linear regressor\n",
    "model = Pipeline([('poly', poly), ('scaler', scaler), ('clf', clf)])\n",
    "\n",
    "# Fit data to model\n",
    "model.fit(X, y)"
   ]
  },
  {
   "cell_type": "code",
   "execution_count": 22,
   "metadata": {},
   "outputs": [
    {
     "data": {
      "text/plain": [
       "0.8305084745762712"
      ]
     },
     "execution_count": 22,
     "metadata": {},
     "output_type": "execute_result"
    }
   ],
   "source": [
    "# Classification accuracy on training set\n",
    "model.score(X, y)"
   ]
  },
  {
   "cell_type": "code",
   "execution_count": 23,
   "metadata": {},
   "outputs": [
    {
     "data": {
      "image/png": "[encoded data removed]",
      "text/plain": [
       "<Figure size 432x288 with 1 Axes>"
      ]
     },
     "execution_count": 23,
     "metadata": {},
     "output_type": "execute_result"
    }
   ],
   "source": [
    "grid = np.mgrid[-1:1:500j, -1:1:500j]\n",
    "\n",
    "# Compute acceptance probabilities on 500*500 grid \n",
    "X_grid = np.c_[grid[0].ravel(), grid[1].ravel()]\n",
    "y_grid = model.predict(X_grid).reshape(grid[0].shape)\n",
    "\n",
    "# Plot decision boundary on previous figure\n",
    "cs = ax.contour(grid[0], grid[1], y_grid, 'g-', levels=[0.5])\n",
    "ax.clabel(cs)\n",
    "\n",
    "# Show previous figure with decision boundary\n",
    "fig"
   ]
  }
 ],
 "metadata": {
  "kernelspec": {
   "display_name": "Python 3 (ipykernel)",
   "language": "python",
   "name": "python3"
  },
  "language_info": {
   "codemirror_mode": {
    "name": "ipython",
    "version": 3
   },
   "file_extension": ".py",
   "mimetype": "text/x-python",
   "name": "python",
   "nbconvert_exporter": "python",
   "pygments_lexer": "ipython3",
   "version": "3.10.12"
  }
 },
 "nbformat": 4,
 "nbformat_minor": 4
}
